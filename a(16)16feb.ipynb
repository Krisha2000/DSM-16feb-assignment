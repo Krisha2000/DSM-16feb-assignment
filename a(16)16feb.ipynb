{
 "cells": [
  {
   "cell_type": "markdown",
   "id": "281eb8f9-8bcb-4413-92df-96a365c9eb6e",
   "metadata": {},
   "source": [
    "# Queton : 1"
   ]
  },
  {
   "cell_type": "markdown",
   "id": "7ffc87f7-5d24-4421-8a28-dc75847130e5",
   "metadata": {},
   "source": [
    "A database is an organized collection of structured information, or data, typically stored electronically in a computer system. A database is usually controlled by a database management system (DBMS). Together, the data and the DBMS, along with the applications that are associated with them, are referred to as a database system, often shortened to just database."
   ]
  },
  {
   "cell_type": "markdown",
   "id": "7a0d5351-c056-40ab-890d-1e4f942c45b3",
   "metadata": {},
   "source": [
    "SQL is the programming language used to interface with relational databases. (Relational databases model data as records in rows and tables with logical links between them). NoSQL is a class of DBMs that are non-relational and generally do not use SQL."
   ]
  },
  {
   "cell_type": "markdown",
   "id": "d7a51d85-b76a-4067-a0c2-62c12c4bdeab",
   "metadata": {},
   "source": [
    "# Queton : 2"
   ]
  },
  {
   "cell_type": "markdown",
   "id": "62d64d66-e7d2-4746-9ade-ffdb02a0542c",
   "metadata": {},
   "source": [
    "DDL statements are similar to a computer programming language for defining data structures, especially database schemas. Common examples of DDL statements include CREATE, ALTER, and DROP. Today's databases incorporate DDL in any formal language that describes data, although it is considered a subset of SQL."
   ]
  },
  {
   "cell_type": "markdown",
   "id": "443cb6aa-1275-4dbc-97b0-563cfa5a7204",
   "metadata": {},
   "source": [
    "# Queton : 3\n"
   ]
  },
  {
   "cell_type": "markdown",
   "id": "e9bfba7f-3835-4d1e-9083-717c319ad045",
   "metadata": {},
   "source": [
    "Data modification language statements (DML) INSERT, UPDATE, and DELETE. Use the INSERT command to enter data into a tabl"
   ]
  },
  {
   "cell_type": "markdown",
   "id": "a5b644ac-29a1-47e4-9f72-a0b0479b9f91",
   "metadata": {},
   "source": [
    "# Queton : 4"
   ]
  },
  {
   "cell_type": "markdown",
   "id": "c5385750-721e-45cd-854e-1b0275dca67b",
   "metadata": {},
   "source": [
    "The DQL statements can be used in order to query the data and information contained in schema objects. The goal of the DQL Commands is to return a schema relation on the basis of the query supplied to them."
   ]
  },
  {
   "cell_type": "markdown",
   "id": "3b1f1d71-59d9-4eee-a583-5b69969d9951",
   "metadata": {},
   "source": [
    "# Queton : 5"
   ]
  },
  {
   "cell_type": "markdown",
   "id": "04c2da1d-476d-4a5f-9bc2-d8626109c709",
   "metadata": {},
   "source": [
    "A primary key generally focuses on the uniqueness of the table. It assures the value in the specific column is unique. A foreign key is generally used to build a relationship between the two tables."
   ]
  },
  {
   "cell_type": "markdown",
   "id": "4c9ff333-eda6-41c4-b40c-3d1069f03300",
   "metadata": {},
   "source": [
    "# Quetion : 6"
   ]
  },
  {
   "cell_type": "code",
   "execution_count": null,
   "id": "118b81a4-ae85-4743-baeb-200cb1d4776c",
   "metadata": {},
   "outputs": [],
   "source": [
    "import mysql.connector\n",
    " \n",
    "# Creating connection object\n",
    "mydb = mysql.connector.connect(\n",
    "    host = \"localhost\",\n",
    "    user = \"yourusername\",\n",
    "    password = \"your_password\"\n",
    ")"
   ]
  },
  {
   "cell_type": "markdown",
   "id": "9097a00b-3bda-4c84-96b2-2f3c260db8b6",
   "metadata": {},
   "source": [
    "cueser() is an object that is used to make the connection for executing SQL queries. It acts as middleware between SQLite database connection and SQL query. It is created after giving connection to SQLite database."
   ]
  },
  {
   "cell_type": "markdown",
   "id": "901f3c0f-1027-419b-bc1b-67a269b921b8",
   "metadata": {},
   "source": [
    "The Execute method executes the query, SQL statement or procedure specified in the CommandText property of the Command object"
   ]
  },
  {
   "cell_type": "markdown",
   "id": "3252fff7-5cee-4130-9677-92f5697e5417",
   "metadata": {},
   "source": [
    "# Quetion : 7"
   ]
  },
  {
   "cell_type": "markdown",
   "id": "2dcf30fa-0b50-46a9-a0e3-9c1af3fb94db",
   "metadata": {},
   "source": [
    "The order in which the clauses in queries are executed is as follows:\n",
    "\n",
    "1. FROM/JOIN: The FROM and/or JOIN clauses are executed first to determine the data of interest.\n",
    "\n",
    "2. WHERE: The WHERE clause is executed to filter out records that do not meet the constraints.\n",
    "\n",
    "3. GROUP BY: The GROUP BY clause is executed to group the data based on the values in one or more columns.\n",
    "\n",
    "4. HAVING: The HAVING clause is executed to remove the created grouped records that don’t meet the constraints.\n",
    "\n",
    "5. SELECT: The SELECT clause is executed to derive all desired columns and expressions.\n",
    "\n",
    "6. ORDER BY: The ORDER BY clause is executed to sort the derived values in ascending or descending order.\n",
    "\n",
    "7. LIMIT/OFFSET: Finally, the LIMIT and/or OFFSET clauses are executed to keep or skip a specified number of rows."
   ]
  },
  {
   "cell_type": "code",
   "execution_count": null,
   "id": "771ea4fb-8828-4c8a-bde5-1b23f328f30b",
   "metadata": {},
   "outputs": [],
   "source": []
  }
 ],
 "metadata": {
  "kernelspec": {
   "display_name": "Python 3 (ipykernel)",
   "language": "python",
   "name": "python3"
  },
  "language_info": {
   "codemirror_mode": {
    "name": "ipython",
    "version": 3
   },
   "file_extension": ".py",
   "mimetype": "text/x-python",
   "name": "python",
   "nbconvert_exporter": "python",
   "pygments_lexer": "ipython3",
   "version": "3.10.8"
  }
 },
 "nbformat": 4,
 "nbformat_minor": 5
}
